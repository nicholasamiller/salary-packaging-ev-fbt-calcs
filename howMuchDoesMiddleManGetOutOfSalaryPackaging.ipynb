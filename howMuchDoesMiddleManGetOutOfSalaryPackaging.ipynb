{
 "cells": [
  {
   "cell_type": "markdown",
   "metadata": {},
   "source": [
    "# Analysis of Salary Packaging for Electric Vehicles Australia"
   ]
  },
  {
   "cell_type": "markdown",
   "metadata": {},
   "source": [
    "Let's look at a salary packaging quote for a Tesla Model 3 and find out how much of the tax benefit the middle man is able to cream off because of the Government's dummer-than-a-bag-of-hammers policy design."
   ]
  },
  {
   "cell_type": "code",
   "execution_count": 3,
   "metadata": {
    "dotnet_interactive": {
     "language": "fsharp"
    },
    "vscode": {
     "languageId": "dotnet-interactive.fsharp"
    }
   },
   "outputs": [
    {
     "data": {
      "text/html": [
       "<div><div></div><div></div><div><strong>Installed Packages</strong><ul><li><span>FinancialSharp, 1.0.1</span></li></ul></div></div>"
      ]
     },
     "metadata": {},
     "output_type": "display_data"
    }
   ],
   "source": [
    "#r \"nuget:FinancialSharp\""
   ]
  },
  {
   "cell_type": "code",
   "execution_count": 4,
   "metadata": {
    "dotnet_interactive": {
     "language": "fsharp"
    },
    "polyglot_notebook": {
     "language": "pwsh"
    },
    "vscode": {
     "languageId": "dotnet-interactive.fsharp"
    }
   },
   "outputs": [],
   "source": [
    "let CAR_ONLY_PAYMENT_PRE_TAX_MONTHLY = 1107.13 // From SGfleet quote\n",
    "let TESLA_MODEL3_COST = 63900.00 // From Tesla website\n",
    "let LEASE_TERM_MONTHS = 60 // From SGfleet quote\n",
    "let CRIPPLING_BALLOON_PAYMENT = 19344.16 // From SGfleet quote and Simpsons: https://youtu.be/su_3x4jsv6w\n"
   ]
  },
  {
   "cell_type": "markdown",
   "metadata": {},
   "source": [
    "Let's find out the effective rate of interest the lessor is getting on this finance.  The lessor has to pay the Tesla cost up front, then gets lease payments each month plus balloon payment.  The balloon payment is added to last lease payment.\n",
    "For an IRR calc, it doesn't matter whether payments are pre/post tax or incl GST - it just has to be consistent.  So we use pre-tax, incl GST.\n",
    "In reality the lessor probably gets the Tesla at a slight fleet discount, not reflected here."
   ]
  },
  {
   "cell_type": "code",
   "execution_count": 5,
   "metadata": {
    "dotnet_interactive": {
     "language": "fsharp"
    },
    "vscode": {
     "languageId": "dotnet-interactive.fsharp"
    }
   },
   "outputs": [
    {
     "data": {
      "text/html": [
       "<table><thead><tr><th>Value</th></tr></thead><tbody><tr><td><div class=\"dni-plaintext\">0.10449672114077369</div></td></tr></tbody></table>"
      ]
     },
     "metadata": {},
     "output_type": "display_data"
    }
   ],
   "source": [
    "let allCashflowsForFinancier = [-TESLA_MODEL3_COST] @ ([1..LEASE_TERM_MONTHS-1] |> List.map (fun _ -> CAR_ONLY_PAYMENT_PRE_TAX_MONTHLY))  @ [CAR_ONLY_PAYMENT_PRE_TAX_MONTHLY + CRIPPLING_BALLOON_PAYMENT] \n",
    "\n",
    "let cashFlowsArray = allCashflowsForFinancier |> Seq.ofList |> Seq.map (fun i -> double i)\n",
    "let irrMonthly= FinancialSharp.Financial.Irr(cashFlowsArray) \n",
    "let irrAnnual = irrMonthly |> Option.map (fun i -> (1.0 + i)**12.0 - 1.0) \n",
    "irrAnnual\n",
    "\n"
   ]
  },
  {
   "cell_type": "markdown",
   "metadata": {},
   "source": [
    "Nice return for lessor!"
   ]
  },
  {
   "cell_type": "markdown",
   "metadata": {},
   "source": [
    "Let's work out what the discounted cost would be if you just bought the damn Tesla with cash borrowed at a mortgage rate, like from an offset account.\n",
    "We use that as the discount rate.\n",
    "We assume you make the same payments as you would have under the lease agreement.\n",
    "We calculate the outstanding balance at the end of the term of the lease if you had made the same monthly payments as in the lease.  This is the same as the residual in the lease would be if it offered the same rate of finance that you could get via your offset account."
   ]
  },
  {
   "cell_type": "code",
   "execution_count": 6,
   "metadata": {
    "dotnet_interactive": {
     "language": "fsharp"
    },
    "vscode": {
     "languageId": "dotnet-interactive.fsharp"
    }
   },
   "outputs": [
    {
     "data": {
      "text/html": [
       "<div class=\"dni-plaintext\">6328.054050190987</div>"
      ]
     },
     "metadata": {},
     "output_type": "display_data"
    }
   ],
   "source": [
    "let ALTERNATIVE_FINANCE_RATE = 0.0482 // eg, residentially secured offset account rate, annual interest rate, not 'comparison rate'\n",
    "let ANNUAL_TAX_BENEFIT = 6951.00 // from sgFleet quote\n",
    "\n",
    "let rec calcEndingBalance(balance: float, periodNumber: int, maxPeriods: int, repayment: float, interestRate: float) =\n",
    "    \n",
    "    let calcPeriodEndBalance(startingBalance: float, repayment: float) = (startingBalance * (1.0 + interestRate)) - repayment // interest accrues on balance at beginning of period, repayment is at end\n",
    "        \n",
    "    match periodNumber >= maxPeriods with\n",
    "    | true -> balance\n",
    "    | false ->\n",
    "        let currentBalance = calcPeriodEndBalance(balance, repayment)\n",
    "        calcEndingBalance(currentBalance, periodNumber + 1, maxPeriods, repayment, interestRate) \n",
    "\n",
    "let monthlyRateOfAltnativeFinance = ALTERNATIVE_FINANCE_RATE / 12.0;\n",
    "\n",
    "let endingBalanceIfPrivatelyFinanced = calcEndingBalance(TESLA_MODEL3_COST, 0, LEASE_TERM_MONTHS, CAR_ONLY_PAYMENT_PRE_TAX_MONTHLY, (monthlyRateOfAltnativeFinance)) \n",
    "endingBalanceIfPrivatelyFinanced\n"
   ]
  },
  {
   "cell_type": "markdown",
   "metadata": {},
   "source": [
    "So what is the discounted cost of the additional finance and other fees in the lease agreement?  The lease agreement also has some inflated fees for insurance and rego.  There is also a management fee and a contingency fee and some other fees.  We can model these as a stream of additional payments.  We should use the after tax values because under the lease agreement they would be FBT exempt.  "
   ]
  },
  {
   "cell_type": "code",
   "execution_count": 7,
   "metadata": {
    "dotnet_interactive": {
     "language": "fsharp"
    },
    "vscode": {
     "languageId": "dotnet-interactive.fsharp"
    }
   },
   "outputs": [],
   "source": [
    "let additonalFeesAnnualEstimateAfterTax =  1000.0 // sgfleet charges management fee, overpriced insurance, padded rego cost, a few other odds and ends\n",
    "\n",
    "let diffBetweenPrivateFinaceResidualAndSgFleetResidual = CRIPPLING_BALLOON_PAYMENT - endingBalanceIfPrivatelyFinanced \n",
    "let npvOfAdditionalFinanceCost = diffBetweenPrivateFinaceResidualAndSgFleetResidual / (1.0 + monthlyRateOfAltnativeFinance)**(float LEASE_TERM_MONTHS) \n",
    "let npvOfAdditionalFees = FinancialSharp.Financial.Npv(ALTERNATIVE_FINANCE_RATE, seq {for _ in 1 ..5 -> additonalFeesAnnualEstimateAfterTax}) \n",
    "let totalAdditionalNpvOfSgFleet = npvOfAdditionalFinanceCost + npvOfAdditionalFees \n"
   ]
  },
  {
   "cell_type": "markdown",
   "metadata": {},
   "source": [
    "The discounted cost of the additional finance and other fees in the lease agreement:"
   ]
  },
  {
   "cell_type": "code",
   "execution_count": 8,
   "metadata": {
    "dotnet_interactive": {
     "language": "fsharp"
    },
    "vscode": {
     "languageId": "dotnet-interactive.fsharp"
    }
   },
   "outputs": [
    {
     "data": {
      "text/html": [
       "<div class=\"dni-plaintext\">14794.363879078797</div>"
      ]
     },
     "metadata": {},
     "output_type": "display_data"
    }
   ],
   "source": [
    "totalAdditionalNpvOfSgFleet"
   ]
  },
  {
   "cell_type": "markdown",
   "metadata": {},
   "source": [
    "What is the discounted value of the tax benefit?  We just discount that annually because you only get it anually."
   ]
  },
  {
   "cell_type": "code",
   "execution_count": 12,
   "metadata": {
    "dotnet_interactive": {
     "language": "fsharp"
    },
    "vscode": {
     "languageId": "dotnet-interactive.fsharp"
    }
   },
   "outputs": [
    {
     "data": {
      "text/html": [
       "<div class=\"dni-plaintext\">31702.31062394445</div>"
      ]
     },
     "metadata": {},
     "output_type": "display_data"
    }
   ],
   "source": [
    "let npvOfTaxBenefit = FinancialSharp.Financial.Npv(ALTERNATIVE_FINANCE_RATE, seq {for _ in 1 .. 5 -> ANNUAL_TAX_BENEFIT}) \n",
    "npvOfTaxBenefit"
   ]
  },
  {
   "cell_type": "markdown",
   "metadata": {},
   "source": [
    "The proportion of the tax benefit that goes to the middle men:"
   ]
  },
  {
   "cell_type": "code",
   "execution_count": 11,
   "metadata": {
    "dotnet_interactive": {
     "language": "fsharp"
    },
    "vscode": {
     "languageId": "dotnet-interactive.fsharp"
    }
   },
   "outputs": [
    {
     "data": {
      "text/html": [
       "<div class=\"dni-plaintext\">0.4666651606115031</div>"
      ]
     },
     "metadata": {},
     "output_type": "display_data"
    }
   ],
   "source": [
    "let middleMenCut =  totalAdditionalNpvOfSgFleet /  npvOfTaxBenefit\n",
    "middleMenCut"
   ]
  }
 ],
 "metadata": {
  "kernelspec": {
   "display_name": ".NET (PowerShell)",
   "language": "PowerShell",
   "name": ".net-pwsh"
  },
  "language_info": {
   "name": "PowerShell"
  }
 },
 "nbformat": 4,
 "nbformat_minor": 2
}
